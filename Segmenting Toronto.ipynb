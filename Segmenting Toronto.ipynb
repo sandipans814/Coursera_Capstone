{
 "cells": [
  {
   "cell_type": "markdown",
   "metadata": {
    "collapsed": true
   },
   "source": [
    "# CAPSTONE PROJECT 2"
   ]
  },
  {
   "cell_type": "markdown",
   "metadata": {},
   "source": [
    "This project is a part of IBM Data Science Professional Certificate's Capstone Project."
   ]
  },
  {
   "cell_type": "code",
   "execution_count": 1,
   "metadata": {
    "collapsed": true
   },
   "outputs": [],
   "source": [
    "from bs4 import BeautifulSoup\n",
    "import requests\n",
    "import pandas as pd"
   ]
  },
  {
   "cell_type": "code",
   "execution_count": 2,
   "metadata": {},
   "outputs": [
    {
     "data": {
      "text/html": [
       "<div>\n",
       "<style>\n",
       "    .dataframe thead tr:only-child th {\n",
       "        text-align: right;\n",
       "    }\n",
       "\n",
       "    .dataframe thead th {\n",
       "        text-align: left;\n",
       "    }\n",
       "\n",
       "    .dataframe tbody tr th {\n",
       "        vertical-align: top;\n",
       "    }\n",
       "</style>\n",
       "<table border=\"1\" class=\"dataframe\">\n",
       "  <thead>\n",
       "    <tr style=\"text-align: right;\">\n",
       "      <th></th>\n",
       "      <th>PostalCode</th>\n",
       "      <th>Borough</th>\n",
       "      <th>Neighborhood</th>\n",
       "    </tr>\n",
       "  </thead>\n",
       "  <tbody>\n",
       "    <tr>\n",
       "      <th>0</th>\n",
       "      <td>M1A</td>\n",
       "      <td>Not assigned</td>\n",
       "      <td>Not assigned</td>\n",
       "    </tr>\n",
       "    <tr>\n",
       "      <th>1</th>\n",
       "      <td>M2A</td>\n",
       "      <td>Not assigned</td>\n",
       "      <td>Not assigned</td>\n",
       "    </tr>\n",
       "    <tr>\n",
       "      <th>2</th>\n",
       "      <td>M3A</td>\n",
       "      <td>North York</td>\n",
       "      <td>Parkwoods</td>\n",
       "    </tr>\n",
       "    <tr>\n",
       "      <th>3</th>\n",
       "      <td>M4A</td>\n",
       "      <td>North York</td>\n",
       "      <td>Victoria Village</td>\n",
       "    </tr>\n",
       "    <tr>\n",
       "      <th>4</th>\n",
       "      <td>M5A</td>\n",
       "      <td>Downtown Toronto</td>\n",
       "      <td>Harbourfront</td>\n",
       "    </tr>\n",
       "  </tbody>\n",
       "</table>\n",
       "</div>"
      ],
      "text/plain": [
       "  PostalCode           Borough      Neighborhood\n",
       "0        M1A      Not assigned      Not assigned\n",
       "1        M2A      Not assigned      Not assigned\n",
       "2        M3A        North York         Parkwoods\n",
       "3        M4A        North York  Victoria Village\n",
       "4        M5A  Downtown Toronto      Harbourfront"
      ]
     },
     "execution_count": 2,
     "metadata": {},
     "output_type": "execute_result"
    }
   ],
   "source": [
    "url = \"https://en.wikipedia.org/wiki/List_of_postal_codes_of_Canada:_M\"\n",
    "source = requests.get(url).text\n",
    "\n",
    "soup = BeautifulSoup(source, 'lxml')\n",
    "\n",
    "table=soup.find('table')\n",
    "\n",
    "# Setting the Column Names for the Dataframe\n",
    "column_names = ['PostalCode','Borough','Neighborhood']\n",
    "df_raw = pd.DataFrame(columns = column_names)\n",
    "\n",
    "# Search all the rows and assign PostCode, Borough, Neighborhood \n",
    "for tr_cell in table.find_all('tr'):\n",
    "    row_data=[]\n",
    "    for td_cell in tr_cell.find_all('td'):\n",
    "        row_data.append(td_cell.text.strip())\n",
    "    if len(row_data)==3:\n",
    "        df_raw.loc[len(df_raw)] = row_data\n",
    "        \n",
    "df_raw.head() # checking the data in the dataframe"
   ]
  },
  {
   "cell_type": "code",
   "execution_count": 3,
   "metadata": {},
   "outputs": [
    {
     "name": "stdout",
     "output_type": "stream",
     "text": [
      "Head of Grouped Data\n",
      "   PostalCode      Borough                            Neighborhood\n",
      "0        M1B  Scarborough                          Rouge, Malvern\n",
      "1        M1C  Scarborough  Highland Creek, Rouge Hill, Port Union\n",
      "2        M1E  Scarborough       Guildwood, Morningside, West Hill\n",
      "3        M1G  Scarborough                                  Woburn\n",
      "4        M1H  Scarborough                               Cedarbrae\n",
      "\n",
      "\n",
      "Shape of Grouped Data : (103, 3)\n"
     ]
    }
   ],
   "source": [
    "df_raw=df_raw[df_raw['Borough']!='Not assigned'] # Removing Not Assigned Values\n",
    "\n",
    "# Grouping Neighborhood By Postal Code\n",
    "df_groupby = df_raw.groupby(['PostalCode','Borough'])['Neighborhood'].apply(', '.join).reset_index()\n",
    "\n",
    "# Printing Data and shape of Dataframe\n",
    "\n",
    "print(\"Head of Grouped Data\\n\",df_groupby.head())\n",
    "\n",
    "print(\"\\n\\nShape of Grouped Data :\",df_groupby.shape)"
   ]
  },
  {
   "cell_type": "code",
   "execution_count": 5,
   "metadata": {},
   "outputs": [
    {
     "name": "stdout",
     "output_type": "stream",
     "text": [
      "Head of Grouped with Coordinate Data\n",
      "   PostalCode      Borough                            Neighborhood   Latitude  \\\n",
      "0        M1B  Scarborough                          Rouge, Malvern  43.806686   \n",
      "1        M1C  Scarborough  Highland Creek, Rouge Hill, Port Union  43.784535   \n",
      "2        M1E  Scarborough       Guildwood, Morningside, West Hill  43.763573   \n",
      "3        M1G  Scarborough                                  Woburn  43.770992   \n",
      "4        M1H  Scarborough                               Cedarbrae  43.773136   \n",
      "\n",
      "   Longitude  \n",
      "0 -79.194353  \n",
      "1 -79.160497  \n",
      "2 -79.188711  \n",
      "3 -79.216917  \n",
      "4 -79.239476  \n",
      "\n",
      "\n",
      "Shape of Grouped with Coordinate Data : (103, 5)\n"
     ]
    }
   ],
   "source": [
    "# Reading coordinated from provided csv file\n",
    "df_coordinates = pd.read_csv('Geospatial_Coordinates.csv')\n",
    "df_coordinates.rename(columns={'Postal Code':'PostalCode'}, inplace=True) # Renaming Column to match key\n",
    "\n",
    "# Merging Groupby Data and Coordinate Data into single frame\n",
    "\n",
    "df_groupby_with_coordinates = pd.merge(df_groupby, df_coordinates, on='PostalCode')\n",
    "\n",
    "# Printing Data and shape of Dataframe\n",
    "\n",
    "print(\"Head of Grouped with Coordinate Data\\n\",df_groupby_with_coordinates.head())\n",
    "\n",
    "print(\"\\n\\nShape of Grouped with Coordinate Data :\",df_groupby_with_coordinates.shape)"
   ]
  }
 ],
 "metadata": {
  "kernelspec": {
   "display_name": "Python 3",
   "language": "python",
   "name": "python3"
  },
  "language_info": {
   "codemirror_mode": {
    "name": "ipython",
    "version": 3
   },
   "file_extension": ".py",
   "mimetype": "text/x-python",
   "name": "python",
   "nbconvert_exporter": "python",
   "pygments_lexer": "ipython3",
   "version": "3.6.3"
  }
 },
 "nbformat": 4,
 "nbformat_minor": 2
}
